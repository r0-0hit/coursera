{
 "cells": [
  {
   "metadata": {},
   "cell_type": "markdown",
   "source": "### Lists in action",
   "id": "7959acb1b1a53054"
  },
  {
   "metadata": {},
   "cell_type": "code",
   "source": [
    "#call the playsound lib\n",
    "# from playsound import playsound\n"
   ],
   "id": "fb760348a5edbcf1",
   "outputs": [],
   "execution_count": null
  },
  {
   "metadata": {},
   "cell_type": "markdown",
   "source": "#### Nested lists",
   "id": "f843dcfbff927713"
  },
  {
   "metadata": {
    "ExecuteTime": {
     "end_time": "2025-05-02T06:35:56.950056Z",
     "start_time": "2025-05-02T06:35:56.890166Z"
    }
   },
   "cell_type": "code",
   "source": [
    "import numpy as np\n",
    "from PIL import Image\n",
    "\n",
    "#image RGB values\n",
    "image_code = [\n",
    "    [(255, 0, 0), (0, 255, 0), (0, 0, 255)],    #RGB pixels\n",
    "    [(0, 0, 0), (255, 255, 255), (128, 128, 128)] #Black white gray pixels\n",
    "]\n",
    "\n",
    "array = np.array(image_code, dtype=np.uint8)\n",
    "\n",
    "new_image = Image.fromarray(array)\n",
    "new_image.save('new_image.png')"
   ],
   "id": "654a31699b18135e",
   "outputs": [],
   "execution_count": 4
  }
 ],
 "metadata": {
  "kernelspec": {
   "display_name": "Python 3",
   "language": "python",
   "name": "python3"
  },
  "language_info": {
   "codemirror_mode": {
    "name": "ipython",
    "version": 2
   },
   "file_extension": ".py",
   "mimetype": "text/x-python",
   "name": "python",
   "nbconvert_exporter": "python",
   "pygments_lexer": "ipython2",
   "version": "2.7.6"
  }
 },
 "nbformat": 4,
 "nbformat_minor": 5
}
