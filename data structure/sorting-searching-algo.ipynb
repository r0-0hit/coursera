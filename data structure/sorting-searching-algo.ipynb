{
 "cells": [
  {
   "metadata": {},
   "cell_type": "markdown",
   "source": "### Binary search",
   "id": "61a12b50a7cbe8d3"
  },
  {
   "metadata": {
    "ExecuteTime": {
     "end_time": "2025-05-02T07:32:22.982272Z",
     "start_time": "2025-05-02T07:32:22.977405Z"
    }
   },
   "cell_type": "code",
   "source": [
    "def binary_search(data: list, target: int) -> int:\n",
    "    \"\"\"\n",
    "    This function performs a binary search through the data array and returns the index of the target value.\n",
    "\n",
    "    args:\n",
    "        data (list): The data array to be searched.\n",
    "        target (int): The target value to be searched.\n",
    "\n",
    "    returns:\n",
    "        index (int): The index of the target value.\n",
    "        -1: if not found in the data array.\n",
    "    \"\"\"\n",
    "\n",
    "    low = 0\n",
    "    high = len(data) - 1\n",
    "\n",
    "    while low <= high:\n",
    "        mid = (low + high) // 2\n",
    "        if data[mid] == target:\n",
    "            return mid\n",
    "        elif data[mid] < target:\n",
    "            low = mid + 1\n",
    "        else:\n",
    "            high = mid - 1\n",
    "\n",
    "    return -1"
   ],
   "id": "a2ce62ddaa262566",
   "outputs": [],
   "execution_count": 1
  },
  {
   "metadata": {
    "ExecuteTime": {
     "end_time": "2025-05-02T07:35:14.443946Z",
     "start_time": "2025-05-02T07:35:14.440017Z"
    }
   },
   "cell_type": "code",
   "source": [
    "numbers = [1, 3, 5, 7, 9, 11, 13, 15, 17, 19]\n",
    "index = binary_search(numbers, 17)\n",
    "print(\"Found at index:\", index)\n",
    "print(numbers.index(17))"
   ],
   "id": "d2e6a6640d6f2dc4",
   "outputs": [
    {
     "name": "stdout",
     "output_type": "stream",
     "text": [
      "Found at index: 8\n",
      "8\n"
     ]
    }
   ],
   "execution_count": 4
  }
 ],
 "metadata": {
  "kernelspec": {
   "display_name": "Python 3",
   "language": "python",
   "name": "python3"
  },
  "language_info": {
   "codemirror_mode": {
    "name": "ipython",
    "version": 2
   },
   "file_extension": ".py",
   "mimetype": "text/x-python",
   "name": "python",
   "nbconvert_exporter": "python",
   "pygments_lexer": "ipython2",
   "version": "2.7.6"
  }
 },
 "nbformat": 4,
 "nbformat_minor": 5
}
